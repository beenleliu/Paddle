{
  "nbformat": 4,
  "nbformat_minor": 0,
  "metadata": {
    "colab": {
      "name": "chapter_ready.ipynb",
      "provenance": [],
      "authorship_tag": "ABX9TyMNdrEwLYLWUfchrD3bDt1s",
      "include_colab_link": true
    },
    "kernelspec": {
      "name": "python3",
      "display_name": "Python 3"
    }
  },
  "cells": [
    {
      "cell_type": "markdown",
      "metadata": {
        "id": "view-in-github",
        "colab_type": "text"
      },
      "source": [
        "<a href=\"https://colab.research.google.com/github/beenleliu/Paddle/blob/master/chapter_ready.ipynb\" target=\"_parent\"><img src=\"https://colab.research.google.com/assets/colab-badge.svg\" alt=\"Open In Colab\"/></a>"
      ]
    },
    {
      "cell_type": "code",
      "metadata": {
        "colab": {
          "base_uri": "https://localhost:8080/"
        },
        "id": "DlOwm73cJUPx",
        "outputId": "a9bf8c88-016e-441c-dac4-021951457eb6"
      },
      "source": [
        "pip install mxnet"
      ],
      "execution_count": 2,
      "outputs": [
        {
          "output_type": "stream",
          "text": [
            "Collecting mxnet\n",
            "\u001b[?25l  Downloading https://files.pythonhosted.org/packages/64/20/76af36cad6754a15f39d3bff19e09921dec72b85261e455d4edc50ebffa8/mxnet-1.7.0.post2-py2.py3-none-manylinux2014_x86_64.whl (54.7MB)\n",
            "\u001b[K     |████████████████████████████████| 54.7MB 76kB/s \n",
            "\u001b[?25hCollecting graphviz<0.9.0,>=0.8.1\n",
            "  Downloading https://files.pythonhosted.org/packages/53/39/4ab213673844e0c004bed8a0781a0721a3f6bb23eb8854ee75c236428892/graphviz-0.8.4-py2.py3-none-any.whl\n",
            "Requirement already satisfied: requests<3,>=2.20.0 in /usr/local/lib/python3.7/dist-packages (from mxnet) (2.23.0)\n",
            "Requirement already satisfied: numpy<2.0.0,>1.16.0 in /usr/local/lib/python3.7/dist-packages (from mxnet) (1.19.5)\n",
            "Requirement already satisfied: certifi>=2017.4.17 in /usr/local/lib/python3.7/dist-packages (from requests<3,>=2.20.0->mxnet) (2020.12.5)\n",
            "Requirement already satisfied: chardet<4,>=3.0.2 in /usr/local/lib/python3.7/dist-packages (from requests<3,>=2.20.0->mxnet) (3.0.4)\n",
            "Requirement already satisfied: urllib3!=1.25.0,!=1.25.1,<1.26,>=1.21.1 in /usr/local/lib/python3.7/dist-packages (from requests<3,>=2.20.0->mxnet) (1.24.3)\n",
            "Requirement already satisfied: idna<3,>=2.5 in /usr/local/lib/python3.7/dist-packages (from requests<3,>=2.20.0->mxnet) (2.10)\n",
            "Installing collected packages: graphviz, mxnet\n",
            "  Found existing installation: graphviz 0.10.1\n",
            "    Uninstalling graphviz-0.10.1:\n",
            "      Successfully uninstalled graphviz-0.10.1\n",
            "Successfully installed graphviz-0.8.4 mxnet-1.7.0.post2\n"
          ],
          "name": "stdout"
        }
      ]
    },
    {
      "cell_type": "code",
      "metadata": {
        "id": "NEBDn9NoJfnN"
      },
      "source": [
        "from mxnet import nd"
      ],
      "execution_count": 3,
      "outputs": []
    },
    {
      "cell_type": "markdown",
      "metadata": {
        "id": "eYfiCgB8LmPs"
      },
      "source": [
        "MXNet **数据创建**"
      ]
    },
    {
      "cell_type": "code",
      "metadata": {
        "colab": {
          "base_uri": "https://localhost:8080/"
        },
        "id": "oe77DQeYJox4",
        "outputId": "d34e0132-ba79-4ac4-873a-6a1dc495c4c7"
      },
      "source": [
        "#创建一个行向量\r\n",
        "x = nd.arange(12)\r\n",
        "x\r\n",
        "x.shape #实例x的形状\r\n",
        "x.size #实例元素的总数\r\n",
        "X = x.reshape(3,4) #形状改变为3行4列\r\n",
        "X  "
      ],
      "execution_count": 7,
      "outputs": [
        {
          "output_type": "execute_result",
          "data": {
            "text/plain": [
              "\n",
              "[[ 0.  1.  2.  3.]\n",
              " [ 4.  5.  6.  7.]\n",
              " [ 8.  9. 10. 11.]]\n",
              "<NDArray 3x4 @cpu(0)>"
            ]
          },
          "metadata": {
            "tags": []
          },
          "execution_count": 7
        }
      ]
    },
    {
      "cell_type": "code",
      "metadata": {
        "colab": {
          "base_uri": "https://localhost:8080/"
        },
        "id": "jvaSvJ_9KTY_",
        "outputId": "3bcdb663-b74b-47f5-e5c5-b117a28abe0f"
      },
      "source": [
        "#各元素全为0，形状为（2，3，4）的张量\r\n",
        "nd.zeros((2,3,4))\r\n",
        "#各元素全为1\r\n",
        "nd.ones((2,3,4))\r\n",
        "#利用list赋值\r\n",
        "li = [[2,1,4,3],[1,2,3,4],[4,3,2,1]]\r\n",
        "Y = nd.array(li)\r\n",
        "Y"
      ],
      "execution_count": 13,
      "outputs": [
        {
          "output_type": "execute_result",
          "data": {
            "text/plain": [
              "\n",
              "[[2. 1. 4. 3.]\n",
              " [1. 2. 3. 4.]\n",
              " [4. 3. 2. 1.]]\n",
              "<NDArray 3x4 @cpu(0)>"
            ]
          },
          "metadata": {
            "tags": []
          },
          "execution_count": 13
        }
      ]
    },
    {
      "cell_type": "code",
      "metadata": {
        "colab": {
          "base_uri": "https://localhost:8080/"
        },
        "id": "PomX29wJLIgG",
        "outputId": "d3be4da5-b3b0-40bc-f856-d6b93e447cd4"
      },
      "source": [
        "#创建一个形状为（3，4），每个元素都随机采样于均值0，标准差为1的正态分布\r\n",
        "nd.random.normal(0, 1, shape=(3,4))"
      ],
      "execution_count": 14,
      "outputs": [
        {
          "output_type": "execute_result",
          "data": {
            "text/plain": [
              "\n",
              "[[ 2.2122064   0.7740038   1.0434403   1.1839255 ]\n",
              " [ 1.8917114  -1.2347414  -1.771029   -0.45138445]\n",
              " [ 0.57938355 -1.856082   -1.9768796  -0.20801921]]\n",
              "<NDArray 3x4 @cpu(0)>"
            ]
          },
          "metadata": {
            "tags": []
          },
          "execution_count": 14
        }
      ]
    },
    {
      "cell_type": "markdown",
      "metadata": {
        "id": "8a2I-ODqLtlJ"
      },
      "source": [
        "**数据操作**"
      ]
    },
    {
      "cell_type": "code",
      "metadata": {
        "colab": {
          "base_uri": "https://localhost:8080/"
        },
        "id": "WpUSNKPpLjQG",
        "outputId": "1e800a39-0876-45d3-d581-69e45c620129"
      },
      "source": [
        "#+\r\n",
        "X+Y\r\n",
        "#*\r\n",
        "X*Y\r\n",
        "#/\r\n",
        "X/Y\r\n",
        "#exp()：指数运算\r\n",
        "Y.exp()\r\n",
        "#dot函数,矩阵乘法，点乘\r\n",
        "nd.dot(X,Y.T)\r\n",
        "#矩阵连接\r\n",
        "nd.concat(X,Y,dim=0) #dim=0,形状中的最左边元素连接\r\n",
        "nd.concat(X,Y,dim=1) #dim=1,形状中左起第二个元素\r\n",
        "X==Y #判断元素是否相同\r\n",
        "X.sum() #元素和\r\n",
        "X.norm().asscalar() #将结果变为Python的标量\r\n",
        "X > Y\r\n",
        "X < Y"
      ],
      "execution_count": 49,
      "outputs": [
        {
          "output_type": "execute_result",
          "data": {
            "text/plain": [
              "\n",
              "[[1. 0. 1. 0.]\n",
              " [0. 0. 0. 0.]\n",
              " [0. 0. 0. 0.]]\n",
              "<NDArray 3x4 @cpu(0)>"
            ]
          },
          "metadata": {
            "tags": []
          },
          "execution_count": 49
        }
      ]
    },
    {
      "cell_type": "markdown",
      "metadata": {
        "id": "IZHb3IKPOGb3"
      },
      "source": [
        "**广播机制**"
      ]
    },
    {
      "cell_type": "code",
      "metadata": {
        "colab": {
          "base_uri": "https://localhost:8080/"
        },
        "id": "sm_LUm1zOKfU",
        "outputId": "380f23f8-7343-46f0-bff4-61ce1a9cdd98"
      },
      "source": [
        "A = nd.arange(3).reshape((3,1))\r\n",
        "B = nd.arange(2).reshape((1,2))\r\n",
        "A,B"
      ],
      "execution_count": 33,
      "outputs": [
        {
          "output_type": "execute_result",
          "data": {
            "text/plain": [
              "(\n",
              " [[0.]\n",
              "  [1.]\n",
              "  [2.]]\n",
              " <NDArray 3x1 @cpu(0)>, \n",
              " [[0. 1.]]\n",
              " <NDArray 1x2 @cpu(0)>)"
            ]
          },
          "metadata": {
            "tags": []
          },
          "execution_count": 33
        }
      ]
    },
    {
      "cell_type": "code",
      "metadata": {
        "colab": {
          "base_uri": "https://localhost:8080/"
        },
        "id": "i7GaDVvBOgr1",
        "outputId": "08a931f0-a7cc-4bf4-c46d-72983b3a8e3b"
      },
      "source": [
        "#A中的第一列元素被广播到第二列,B中的第一行两个元素被广播到第二行和第三行\r\n",
        "A+B "
      ],
      "execution_count": 34,
      "outputs": [
        {
          "output_type": "execute_result",
          "data": {
            "text/plain": [
              "\n",
              "[[0. 1.]\n",
              " [1. 2.]\n",
              " [2. 3.]]\n",
              "<NDArray 3x2 @cpu(0)>"
            ]
          },
          "metadata": {
            "tags": []
          },
          "execution_count": 34
        }
      ]
    },
    {
      "cell_type": "markdown",
      "metadata": {
        "id": "1aoBkrAgO9Cp"
      },
      "source": [
        "**索引**"
      ]
    },
    {
      "cell_type": "code",
      "metadata": {
        "colab": {
          "base_uri": "https://localhost:8080/"
        },
        "id": "luB_cjS1O8GD",
        "outputId": "f11da026-998c-4b0e-b587-c1f817aa6dda"
      },
      "source": [
        "X[1:3]"
      ],
      "execution_count": 35,
      "outputs": [
        {
          "output_type": "execute_result",
          "data": {
            "text/plain": [
              "\n",
              "[[ 4.  5.  6.  7.]\n",
              " [ 8.  9. 10. 11.]]\n",
              "<NDArray 2x4 @cpu(0)>"
            ]
          },
          "metadata": {
            "tags": []
          },
          "execution_count": 35
        }
      ]
    },
    {
      "cell_type": "code",
      "metadata": {
        "colab": {
          "base_uri": "https://localhost:8080/"
        },
        "id": "zGkExEGJPNYg",
        "outputId": "c8686d1f-6180-45d8-e017-9d4d5e96638d"
      },
      "source": [
        "X[1,2] = 9\r\n",
        "X"
      ],
      "execution_count": 37,
      "outputs": [
        {
          "output_type": "execute_result",
          "data": {
            "text/plain": [
              "\n",
              "[[ 0.  1.  2.  3.]\n",
              " [ 4.  5.  9.  7.]\n",
              " [ 8.  9. 10. 11.]]\n",
              "<NDArray 3x4 @cpu(0)>"
            ]
          },
          "metadata": {
            "tags": []
          },
          "execution_count": 37
        }
      ]
    },
    {
      "cell_type": "code",
      "metadata": {
        "colab": {
          "base_uri": "https://localhost:8080/"
        },
        "id": "qJ0Rj6klPUfz",
        "outputId": "98c27099-4cf4-433d-96ea-c6364694e86a"
      },
      "source": [
        "#给行索引为1的每一列元素赋值为12\r\n",
        "X[1:2, :] = 12\r\n",
        "X"
      ],
      "execution_count": 39,
      "outputs": [
        {
          "output_type": "execute_result",
          "data": {
            "text/plain": [
              "\n",
              "[[ 0.  1.  2.  3.]\n",
              " [12. 12. 12. 12.]\n",
              " [ 8.  9. 10. 11.]]\n",
              "<NDArray 3x4 @cpu(0)>"
            ]
          },
          "metadata": {
            "tags": []
          },
          "execution_count": 39
        }
      ]
    },
    {
      "cell_type": "markdown",
      "metadata": {
        "id": "_H2cpSbRPseN"
      },
      "source": [
        "**NDArray和Numpy相互转换**"
      ]
    },
    {
      "cell_type": "code",
      "metadata": {
        "id": "0FOS69dgPq1y"
      },
      "source": [
        "import numpy as np"
      ],
      "execution_count": 40,
      "outputs": []
    },
    {
      "cell_type": "code",
      "metadata": {
        "colab": {
          "base_uri": "https://localhost:8080/"
        },
        "id": "SGt-H5FTP6Lk",
        "outputId": "e7cc24e8-d0cf-46df-b49f-27bf7a469b0a"
      },
      "source": [
        "#Numpy -> NDArray\r\n",
        "P = np.ones((2,3))\r\n",
        "D = nd.array(P)\r\n",
        "#NDArray -> Numpy\r\n",
        "D.asnumpy()"
      ],
      "execution_count": 47,
      "outputs": [
        {
          "output_type": "execute_result",
          "data": {
            "text/plain": [
              "array([[1., 1., 1.],\n",
              "       [1., 1., 1.]], dtype=float32)"
            ]
          },
          "metadata": {
            "tags": []
          },
          "execution_count": 47
        }
      ]
    },
    {
      "cell_type": "markdown",
      "metadata": {
        "id": "d16yqZjzSFG7"
      },
      "source": [
        "**自动求梯度**"
      ]
    },
    {
      "cell_type": "code",
      "metadata": {
        "id": "izZsvbW8SHs3"
      },
      "source": [
        "from mxnet import autograd, nd"
      ],
      "execution_count": 50,
      "outputs": []
    },
    {
      "cell_type": "markdown",
      "metadata": {
        "id": "WnZI-hBOScrm"
      },
      "source": [
        "对函数 y = 2x⊤x 求关于列向量 x 的梯度"
      ]
    },
    {
      "cell_type": "code",
      "metadata": {
        "colab": {
          "base_uri": "https://localhost:8080/"
        },
        "id": "E6OUyq1KSWt9",
        "outputId": "6eb920e4-929e-44f1-c4ca-9263c827e508"
      },
      "source": [
        "#创建变量x,赋值\r\n",
        "x = nd.arange(4).reshape((4,1))\r\n",
        "x"
      ],
      "execution_count": 51,
      "outputs": [
        {
          "output_type": "execute_result",
          "data": {
            "text/plain": [
              "\n",
              "[[0.]\n",
              " [1.]\n",
              " [2.]\n",
              " [3.]]\n",
              "<NDArray 4x1 @cpu(0)>"
            ]
          },
          "metadata": {
            "tags": []
          },
          "execution_count": 51
        }
      ]
    },
    {
      "cell_type": "code",
      "metadata": {
        "id": "sCY9g9uvSrI8"
      },
      "source": [
        "#申请存储梯度所需要的内存\r\n",
        "x.attach_grad()"
      ],
      "execution_count": 52,
      "outputs": []
    },
    {
      "cell_type": "code",
      "metadata": {
        "colab": {
          "base_uri": "https://localhost:8080/"
        },
        "id": "CG8GmgGXS_s4",
        "outputId": "c1183b0d-2358-49ef-d551-223655a53ac8"
      },
      "source": [
        "#为了减少计算和内存开销，默认条件下MXNet不会记录⽤于求梯度的计算。我们需要调⽤record函数来要求MXNet记录与求梯度有关的计算。\r\n",
        "#建立y函数\r\n",
        "with autograd.record():\r\n",
        "  y = 2 * nd.dot(x.T, x)"
      ],
      "execution_count": 56,
      "outputs": [
        {
          "output_type": "execute_result",
          "data": {
            "text/plain": [
              "\n",
              "[[28.]]\n",
              "<NDArray 1x1 @cpu(0)>"
            ]
          },
          "metadata": {
            "tags": []
          },
          "execution_count": 56
        }
      ]
    },
    {
      "cell_type": "code",
      "metadata": {
        "id": "bGRMVRLAUJhx"
      },
      "source": [
        "#调用backward函数自动求梯度\r\n",
        "y.backward()"
      ],
      "execution_count": 57,
      "outputs": []
    },
    {
      "cell_type": "code",
      "metadata": {
        "colab": {
          "base_uri": "https://localhost:8080/"
        },
        "id": "3SKNWdfsUena",
        "outputId": "861c1f32-3851-4f21-d4fc-ff1cbad67618"
      },
      "source": [
        "#函数 y = 2x⊤x 关于x的梯度应为4x\r\n",
        "assert(x.grad - 4*x).norm().asscalar() == 0\r\n",
        "x.grad"
      ],
      "execution_count": 60,
      "outputs": [
        {
          "output_type": "execute_result",
          "data": {
            "text/plain": [
              "\n",
              "[[ 0.]\n",
              " [ 4.]\n",
              " [ 8.]\n",
              " [12.]]\n",
              "<NDArray 4x1 @cpu(0)>"
            ]
          },
          "metadata": {
            "tags": []
          },
          "execution_count": 60
        }
      ]
    },
    {
      "cell_type": "markdown",
      "metadata": {
        "id": "Wh__m3nHVDW7"
      },
      "source": [
        "**训练模式和预测模式**"
      ]
    },
    {
      "cell_type": "code",
      "metadata": {
        "colab": {
          "base_uri": "https://localhost:8080/"
        },
        "id": "lrVt96zAVGyU",
        "outputId": "c780675a-bace-4e88-bea4-6d52623a22ea"
      },
      "source": [
        "#默认情况下autograd还会将运⾏模式从预测模式转为训练模式。这可以通过调⽤is_training函数来查看\r\n",
        "print(autograd.is_training())\r\n",
        "with autograd.record():\r\n",
        "  print(autograd.is_training())"
      ],
      "execution_count": 63,
      "outputs": [
        {
          "output_type": "stream",
          "text": [
            "False\n",
            "True\n"
          ],
          "name": "stdout"
        }
      ]
    },
    {
      "cell_type": "markdown",
      "metadata": {
        "id": "ldaT-PspVaYR"
      },
      "source": [
        "**对Python控制流求梯度**"
      ]
    },
    {
      "cell_type": "code",
      "metadata": {
        "id": "nvdH_k_AVaJF"
      },
      "source": [
        "#即使函数的计算图包含了Python的控制流（如条件和循环控制），我们也有可能对变量求梯度。\r\n",
        "def f(a):\r\n",
        "  b = a * 2\r\n",
        "  while b.norm().asscalar() < 1000:\r\n",
        "    b = b * 2\r\n",
        "  if b.sum().asscalar() > 0:\r\n",
        "    c = b\r\n",
        "  else:\r\n",
        "    c = 100 * b\r\n",
        "  return c"
      ],
      "execution_count": 64,
      "outputs": []
    },
    {
      "cell_type": "code",
      "metadata": {
        "id": "6LPs3Sx_V5Wu"
      },
      "source": [
        "#使⽤record函数记录计算，并调⽤backward函数求梯度\r\n",
        "# a = nd.random.normal(shape=1)\r\n",
        "# a.attach_grad()\r\n",
        "# with autograd.record():\r\n",
        "#   c = f(a)\r\n",
        "# c.backward()"
      ],
      "execution_count": 66,
      "outputs": []
    },
    {
      "cell_type": "code",
      "metadata": {
        "id": "eb1XnFQRWoEM"
      },
      "source": [
        "a = nd.random.normal(12, shape=(3,4))\r\n",
        "a.attach_grad()\r\n",
        "with autograd.record():\r\n",
        "  c = f(a)\r\n",
        "c.backward()"
      ],
      "execution_count": 69,
      "outputs": []
    },
    {
      "cell_type": "code",
      "metadata": {
        "colab": {
          "base_uri": "https://localhost:8080/"
        },
        "id": "Qank8iIMWSXk",
        "outputId": "4722bd9c-827c-4909-bcc8-d6e11a59ca10"
      },
      "source": [
        "a.grad == c/a"
      ],
      "execution_count": 70,
      "outputs": [
        {
          "output_type": "execute_result",
          "data": {
            "text/plain": [
              "\n",
              "[[1. 1. 1. 1.]\n",
              " [1. 1. 1. 1.]\n",
              " [1. 1. 1. 1.]]\n",
              "<NDArray 3x4 @cpu(0)>"
            ]
          },
          "metadata": {
            "tags": []
          },
          "execution_count": 70
        }
      ]
    }
  ]
}