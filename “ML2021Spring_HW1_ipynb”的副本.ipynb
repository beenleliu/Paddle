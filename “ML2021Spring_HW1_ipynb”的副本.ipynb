{
  "nbformat": 4,
  "nbformat_minor": 0,
  "metadata": {
    "colab": {
      "name": "“ML2021Spring - HW1.ipynb”的副本",
      "provenance": [],
      "collapsed_sections": [],
      "toc_visible": true,
      "include_colab_link": true
    },
    "kernelspec": {
      "name": "python3",
      "display_name": "Python 3"
    },
    "accelerator": "GPU"
  },
  "cells": [
    {
      "cell_type": "markdown",
      "metadata": {
        "id": "view-in-github",
        "colab_type": "text"
      },
      "source": [
        "<a href=\"https://colab.research.google.com/github/beenleliu/Paddle/blob/master/%E2%80%9CML2021Spring_HW1_ipynb%E2%80%9D%E7%9A%84%E5%89%AF%E6%9C%AC.ipynb\" target=\"_parent\"><img src=\"https://colab.research.google.com/assets/colab-badge.svg\" alt=\"Open In Colab\"/></a>"
      ]
    },
    {
      "cell_type": "markdown",
      "metadata": {
        "id": "mz0_QVkxCrX3"
      },
      "source": [
        "# **Homework 1: COVID-19 Cases Prediction (Regression)**"
      ]
    },
    {
      "cell_type": "markdown",
      "metadata": {
        "id": "ZeZnPAiwDRWG"
      },
      "source": [
        "Author: Heng-Jui Chang\n",
        "\n",
        "Slides: https://github.com/ga642381/ML2021-Spring/blob/main/HW01/HW01.pdf  \n",
        "Video: TBA\n",
        "\n",
        "Objectives:\n",
        "* Solve a regression problem with deep neural networks (DNN).\n",
        "* Understand basic DNN training tips.\n",
        "* Get familiar with PyTorch.\n",
        "\n",
        "If any questions, please contact the TAs via TA hours, NTU COOL, or email.\n"
      ]
    },
    {
      "cell_type": "markdown",
      "metadata": {
        "id": "Jx3x1nDkG-Uy"
      },
      "source": [
        "# **Download Data**\n",
        "\n",
        "\n",
        "If the Google drive links are dead, you can download data from [kaggle](https://www.kaggle.com/c/ml2021spring-hw1/data), and upload data manually to the workspace."
      ]
    },
    {
      "cell_type": "code",
      "metadata": {
        "colab": {
          "base_uri": "https://localhost:8080/"
        },
        "id": "tMj55YDKG6ch",
        "outputId": "fc1e93c1-7ad4-47ed-8a4f-2c39bb8763d5"
      },
      "source": [
        "tr_path = 'covid.train.csv'  # path to training data\n",
        "tt_path = 'covid.test.csv'   # path to testing data\n",
        "\n",
        "!gdown --id '19CCyCgJrUxtvgZF53vnctJiOJ23T5mqF' --output covid.train.csv\n",
        "!gdown --id '1CE240jLm2npU-tdz81-oVKEF3T2yfT1O' --output covid.test.csv"
      ],
      "execution_count": null,
      "outputs": [
        {
          "output_type": "stream",
          "text": [
            "Downloading...\n",
            "From: https://drive.google.com/uc?id=19CCyCgJrUxtvgZF53vnctJiOJ23T5mqF\n",
            "To: /content/covid.train.csv\n",
            "100% 2.00M/2.00M [00:00<00:00, 29.3MB/s]\n",
            "Downloading...\n",
            "From: https://drive.google.com/uc?id=1CE240jLm2npU-tdz81-oVKEF3T2yfT1O\n",
            "To: /content/covid.test.csv\n",
            "100% 651k/651k [00:00<00:00, 10.2MB/s]\n"
          ],
          "name": "stdout"
        }
      ]
    },
    {
      "cell_type": "markdown",
      "metadata": {
        "id": "wS_4-77xHk44"
      },
      "source": [
        "# **Import Some Packages**"
      ]
    },
    {
      "cell_type": "code",
      "metadata": {
        "id": "k-onQd4JNA5H"
      },
      "source": [
        "# PyTorch\n",
        "import torch\n",
        "import torch.nn as nn\n",
        "from torch.utils.data import Dataset, DataLoader\n",
        "\n",
        "# For data preprocess\n",
        "import numpy as np\n",
        "import csv\n",
        "import os\n",
        "\n",
        "# For plotting\n",
        "import matplotlib.pyplot as plt\n",
        "from matplotlib.pyplot import figure\n",
        "\n",
        "myseed = 42069  # set a random seed for reproducibility\n",
        "torch.backends.cudnn.deterministic = True\n",
        "torch.backends.cudnn.benchmark = False\n",
        "np.random.seed(myseed)\n",
        "torch.manual_seed(myseed)\n",
        "if torch.cuda.is_available():\n",
        "    torch.cuda.manual_seed_all(myseed)"
      ],
      "execution_count": null,
      "outputs": []
    },
    {
      "cell_type": "markdown",
      "metadata": {
        "id": "BtE3b6JEH7rw"
      },
      "source": [
        "# **Some Utilities**\n",
        "\n",
        "You do not need to modify this part."
      ]
    },
    {
      "cell_type": "code",
      "metadata": {
        "id": "FWMT3uf1NGQp"
      },
      "source": [
        "def get_device():\n",
        "    ''' Get device (if GPU is available, use GPU) '''\n",
        "    return 'cuda' if torch.cuda.is_available() else 'cpu'\n",
        "\n",
        "def plot_learning_curve(loss_record, title=''):\n",
        "    ''' Plot learning curve of your DNN (train & dev loss) '''\n",
        "    total_steps = len(loss_record['train'])\n",
        "    x_1 = range(total_steps)\n",
        "    x_2 = x_1[::len(loss_record['train']) // len(loss_record['dev'])]\n",
        "    figure(figsize=(6, 4))\n",
        "    plt.plot(x_1, loss_record['train'], c='tab:red', label='train')\n",
        "    plt.plot(x_2, loss_record['dev'], c='tab:cyan', label='dev')\n",
        "    plt.ylim(0.0, 5.)\n",
        "    plt.xlabel('Training steps')\n",
        "    plt.ylabel('MSE loss')\n",
        "    plt.title('Learning curve of {}'.format(title))\n",
        "    plt.legend()\n",
        "    plt.show()\n",
        "\n",
        "\n",
        "def plot_pred(dv_set, model, device, lim=35., preds=None, targets=None):\n",
        "    ''' Plot prediction of your DNN '''\n",
        "    if preds is None or targets is None:\n",
        "        model.eval()\n",
        "        preds, targets = [], []\n",
        "        for x, y in dv_set:\n",
        "            x, y = x.to(device), y.to(device)\n",
        "            with torch.no_grad():\n",
        "                pred = model(x)\n",
        "                preds.append(pred.detach().cpu())\n",
        "                targets.append(y.detach().cpu())\n",
        "        preds = torch.cat(preds, dim=0).numpy()\n",
        "        targets = torch.cat(targets, dim=0).numpy()\n",
        "\n",
        "    figure(figsize=(5, 5))\n",
        "    plt.scatter(targets, preds, c='r', alpha=0.5)\n",
        "    plt.plot([-0.2, lim], [-0.2, lim], c='b')\n",
        "    plt.xlim(-0.2, lim)\n",
        "    plt.ylim(-0.2, lim)\n",
        "    plt.xlabel('ground truth value')\n",
        "    plt.ylabel('predicted value')\n",
        "    plt.title('Ground Truth v.s. Prediction')\n",
        "    plt.show()"
      ],
      "execution_count": null,
      "outputs": []
    },
    {
      "cell_type": "markdown",
      "metadata": {
        "id": "39U_XFX6KOoj"
      },
      "source": [
        "# **Preprocess**\n",
        "\n",
        "We have three kinds of datasets:\n",
        "* `train`: for training\n",
        "* `dev`: for validation\n",
        "* `test`: for testing (w/o target value)"
      ]
    },
    {
      "cell_type": "markdown",
      "metadata": {
        "id": "TQ-MdwpLL7Dt"
      },
      "source": [
        "## **Dataset**\n",
        "\n",
        "The `COVID19Dataset` below does:\n",
        "* read `.csv` files\n",
        "* extract features\n",
        "* split `covid.train.csv` into train/dev sets\n",
        "* normalize features\n",
        "\n",
        "Finishing `TODO` below might make you pass medium baseline."
      ]
    },
    {
      "cell_type": "code",
      "metadata": {
        "id": "0zlpIp9ANJRU"
      },
      "source": [
        "class COVID19Dataset(Dataset):\n",
        "    ''' Dataset for loading and preprocessing the COVID19 dataset '''\n",
        "    def __init__(self,\n",
        "                 path,\n",
        "                 mode='train',\n",
        "                 target_only=False):\n",
        "        self.mode = mode\n",
        "\n",
        "        # Read data into numpy arrays\n",
        "        with open(path, 'r') as fp:\n",
        "            data_1 = list(csv.reader(fp))\n",
        "            data1 = np.array(data_1[1:])[:, 1:41].astype(float) #state\n",
        "            data2 = np.array(data_1[1:])[:, 58:59].astype(float) #features1\n",
        "            data3 = np.array(data_1[1:])[:, 76:77].astype(float) #features2\n",
        "            data = np.hstack((data1,data2,data3)) #42条features\n",
        "        \n",
        "        if not target_only:\n",
        "            feats = list(range(42))\n",
        "        else:\n",
        "            # TODO: Using 40 states & 2 tested_positive features (indices = 57 & 75)\n",
        "            pass\n",
        "            #feats = list(range(2))\n",
        "  \n",
        "        if mode == 'test':\n",
        "            # Testing data\n",
        "            # data: 893 x 93 (40 states + day 1 (18) + day 2 (18) + day 3 (17))\n",
        "            data = data[:, feats]\n",
        "            self.data = torch.FloatTensor(data)\n",
        "        else:\n",
        "            # Training data (train/dev sets)\n",
        "            # data: 2700 x 94 (40 states + day 1 (18) + day 2 (18) + day 3 (18))\n",
        "            # data: 2700 * 42 (40 stats + features)\n",
        "            target = data[:, -1]\n",
        "            data = data[:, feats]\n",
        "            \n",
        "            # Splitting training data into train & dev sets\n",
        "            if mode == 'train':\n",
        "                indices = [i for i in range(len(data)) if i % 10 != 0]\n",
        "            elif mode == 'dev':\n",
        "                indices = [i for i in range(len(data)) if i % 10 == 0]\n",
        "            \n",
        "            # Convert data into PyTorch tensors\n",
        "            self.data = torch.FloatTensor(data[indices])\n",
        "            self.target = torch.FloatTensor(target[indices])\n",
        "\n",
        "        # Normalize features (you may remove this part to see what will happen)\n",
        "        self.data[:, 40:] = \\\n",
        "            (self.data[:, 40:] - self.data[:, 40:].mean(dim=0, keepdim=True)) \\\n",
        "            / self.data[:, 40:].std(dim=0, keepdim=True)\n",
        "\n",
        "        self.dim = self.data.shape[1]\n",
        "\n",
        "        print('Finished reading the {} set of COVID19 Dataset ({} samples found, each dim = {})'\n",
        "              .format(mode, len(self.data), self.dim))\n",
        "\n",
        "    def __getitem__(self, index):\n",
        "        # Returns one sample at a time\n",
        "        if self.mode in ['train', 'dev']:\n",
        "            # For training\n",
        "            return self.data[index], self.target[index]\n",
        "        else:\n",
        "            # For testing (no target)\n",
        "            return self.data[index]\n",
        "\n",
        "    def __len__(self):\n",
        "        # Returns the size of the dataset\n",
        "        return len(self.data)"
      ],
      "execution_count": null,
      "outputs": []
    },
    {
      "cell_type": "markdown",
      "metadata": {
        "id": "AlhTlkE7MDo3"
      },
      "source": [
        "## **DataLoader**\n",
        "\n",
        "A `DataLoader` loads data from a given `Dataset` into batches.\n"
      ]
    },
    {
      "cell_type": "code",
      "metadata": {
        "id": "hlhLk5t6MBX3"
      },
      "source": [
        "def prep_dataloader(path, mode, batch_size, n_jobs=0, target_only=True):\n",
        "    ''' Generates a dataset, then is put into a dataloader. '''\n",
        "    dataset = COVID19Dataset(path, mode=mode, target_only=target_only)  # Construct dataset\n",
        "    dataloader = DataLoader(\n",
        "        dataset, batch_size,\n",
        "        shuffle=(mode == 'train'), drop_last=False,\n",
        "        num_workers=n_jobs, pin_memory=True)                            # Construct dataloader\n",
        "    return dataloader"
      ],
      "execution_count": null,
      "outputs": []
    },
    {
      "cell_type": "markdown",
      "metadata": {
        "id": "SGuycwR0MeQB"
      },
      "source": [
        "# **Deep Neural Network**\n",
        "\n",
        "`NeuralNet` is an `nn.Module` designed for regression.\n",
        "The DNN consists of 2 fully-connected layers with ReLU activation.\n",
        "This module also included a function `cal_loss` for calculating loss.\n"
      ]
    },
    {
      "cell_type": "code",
      "metadata": {
        "id": "49-uXYovOAI0"
      },
      "source": [
        "class NeuralNet(nn.Module):\n",
        "    ''' A simple fully-connected deep neural network '''\n",
        "    def __init__(self, input_dim):\n",
        "        super(NeuralNet, self).__init__()\n",
        "\n",
        "        # Define your neural network here\n",
        "        # TODO: How to modify this model to achieve better performance?\n",
        "        self.net = nn.Sequential(\n",
        "            nn.Linear(input_dim, 64),\n",
        "            nn.ReLU(),\n",
        "            nn.Linear(64, 1)\n",
        "        )\n",
        "\n",
        "        # Mean squared error loss\n",
        "        self.criterion = nn.MSELoss(reduction='mean')\n",
        "\n",
        "    def forward(self, x):\n",
        "        ''' Given input of size (batch_size x input_dim), compute output of the network '''\n",
        "        return self.net(x).squeeze(1)\n",
        "\n",
        "    def cal_loss(self, pred, target):\n",
        "        ''' Calculate loss '''\n",
        "        # TODO: you may implement L2 regularization here\n",
        "        return self.criterion(pred, target)"
      ],
      "execution_count": null,
      "outputs": []
    },
    {
      "cell_type": "markdown",
      "metadata": {
        "id": "DvFWVjZ5Nvga"
      },
      "source": [
        "# **Train/Dev/Test**"
      ]
    },
    {
      "cell_type": "markdown",
      "metadata": {
        "id": "MAM8QecJOyqn"
      },
      "source": [
        "## **Training**"
      ]
    },
    {
      "cell_type": "code",
      "metadata": {
        "id": "lOqcmYzMO7jB"
      },
      "source": [
        "def train(tr_set, dv_set, model, config, device):\n",
        "    ''' DNN training '''\n",
        "\n",
        "    n_epochs = config['n_epochs']  # Maximum number of epochs\n",
        "\n",
        "    # Setup optimizer\n",
        "    optimizer = getattr(torch.optim, config['optimizer'])(\n",
        "        model.parameters(), **config['optim_hparas'])\n",
        "\n",
        "    min_mse = 1000.\n",
        "    loss_record = {'train': [], 'dev': []}      # for recording training loss\n",
        "    early_stop_cnt = 0\n",
        "    epoch = 0\n",
        "    while epoch < n_epochs:\n",
        "        model.train()                           # set model to training mode\n",
        "        for x, y in tr_set:                     # iterate through the dataloader\n",
        "            optimizer.zero_grad()               # set gradient to zero\n",
        "            x, y = x.to(device), y.to(device)   # move data to device (cpu/cuda)\n",
        "            pred = model(x)                     # forward pass (compute output)\n",
        "            mse_loss = model.cal_loss(pred, y)  # compute loss\n",
        "            mse_loss.backward()                 # compute gradient (backpropagation)\n",
        "            optimizer.step()                    # update model with optimizer\n",
        "            loss_record['train'].append(mse_loss.detach().cpu().item())\n",
        "\n",
        "        # After each epoch, test your model on the validation (development) set.\n",
        "        dev_mse = dev(dv_set, model, device)\n",
        "        if dev_mse < min_mse:\n",
        "            # Save model if your model improved\n",
        "            min_mse = dev_mse\n",
        "            print('Saving model (epoch = {:4d}, loss = {:.4f})'\n",
        "                .format(epoch + 1, min_mse))\n",
        "            torch.save(model.state_dict(), config['save_path'])  # Save model to specified path\n",
        "            early_stop_cnt = 0\n",
        "        else:\n",
        "            early_stop_cnt += 1\n",
        "\n",
        "        epoch += 1\n",
        "        loss_record['dev'].append(dev_mse)\n",
        "        if early_stop_cnt > config['early_stop']:\n",
        "            # Stop training if your model stops improving for \"config['early_stop']\" epochs.\n",
        "            break\n",
        "\n",
        "    print('Finished training after {} epochs'.format(epoch))\n",
        "    return min_mse, loss_record"
      ],
      "execution_count": null,
      "outputs": []
    },
    {
      "cell_type": "markdown",
      "metadata": {
        "id": "0hSd4Bn3O2PL"
      },
      "source": [
        "## **Validation**"
      ]
    },
    {
      "cell_type": "code",
      "metadata": {
        "id": "yrxrD3YsN3U2"
      },
      "source": [
        "def dev(dv_set, model, device):\n",
        "    model.eval()                                # set model to evalutation mode\n",
        "    total_loss = 0\n",
        "    for x, y in dv_set:                         # iterate through the dataloader\n",
        "        x, y = x.to(device), y.to(device)       # move data to device (cpu/cuda)\n",
        "        with torch.no_grad():                   # disable gradient calculation\n",
        "            pred = model(x)                     # forward pass (compute output)\n",
        "            mse_loss = model.cal_loss(pred, y)  # compute loss\n",
        "        total_loss += mse_loss.detach().cpu().item() * len(x)  # accumulate loss\n",
        "    total_loss = total_loss / len(dv_set.dataset)              # compute averaged loss\n",
        "\n",
        "    return total_loss"
      ],
      "execution_count": null,
      "outputs": []
    },
    {
      "cell_type": "markdown",
      "metadata": {
        "id": "g0pdrhQAO41L"
      },
      "source": [
        "## **Testing**"
      ]
    },
    {
      "cell_type": "code",
      "metadata": {
        "id": "aSBMRFlYN5tB"
      },
      "source": [
        "def test(tt_set, model, device):\n",
        "    model.eval()                                # set model to evalutation mode\n",
        "    preds = []\n",
        "    for x in tt_set:                            # iterate through the dataloader\n",
        "        x = x.to(device)                        # move data to device (cpu/cuda)\n",
        "        with torch.no_grad():                   # disable gradient calculation\n",
        "            pred = model(x)                     # forward pass (compute output)\n",
        "            preds.append(pred.detach().cpu())   # collect prediction\n",
        "    preds = torch.cat(preds, dim=0).numpy()     # concatenate all predictions and convert to a numpy array\n",
        "    return preds"
      ],
      "execution_count": null,
      "outputs": []
    },
    {
      "cell_type": "markdown",
      "metadata": {
        "id": "SvckkF5dvf0j"
      },
      "source": [
        "# **Setup Hyper-parameters**\n",
        "\n",
        "`config` contains hyper-parameters for training and the path to save your model."
      ]
    },
    {
      "cell_type": "code",
      "metadata": {
        "id": "NPXpdumwPjE7"
      },
      "source": [
        "device = get_device()                 # get the current available device ('cpu' or 'cuda')\n",
        "os.makedirs('models', exist_ok=True)  # The trained model will be saved to ./models/\n",
        "target_only = False                   # TODO: Using 40 states & 2 tested_positive features\n",
        "\n",
        "# TODO: How to tune these hyper-parameters to improve your model's performance?\n",
        "config = {\n",
        "    'n_epochs': 3000,                # maximum number of epochs\n",
        "    'batch_size': 270,               # mini-batch size for dataloader\n",
        "    'optimizer': 'SGD',              # optimization algorithm (optimizer in torch.optim)\n",
        "    'optim_hparas': {                # hyper-parameters for the optimizer (depends on which optimizer you are using)\n",
        "        'lr': 0.001,                 # learning rate of SGD\n",
        "        'momentum': 0.9              # momentum for SGD\n",
        "    },\n",
        "    'early_stop': 200,               # early stopping epochs (the number epochs since your model's last improvement)\n",
        "    'save_path': 'models/model.pth'  # your model will be saved here\n",
        "}"
      ],
      "execution_count": null,
      "outputs": []
    },
    {
      "cell_type": "markdown",
      "metadata": {
        "id": "6j1eOV3TOH-j"
      },
      "source": [
        "# **Load data and model**"
      ]
    },
    {
      "cell_type": "code",
      "metadata": {
        "colab": {
          "base_uri": "https://localhost:8080/"
        },
        "id": "eNrYBMmePLKm",
        "outputId": "eb0e1f26-fa3a-4c9c-bcb2-0a1f105bfc3d"
      },
      "source": [
        "tr_set = prep_dataloader(tr_path, 'train', config['batch_size'], target_only=target_only)\n",
        "dv_set = prep_dataloader(tr_path, 'dev', config['batch_size'], target_only=target_only)\n",
        "tt_set = prep_dataloader(tt_path, 'test', config['batch_size'], target_only=target_only)"
      ],
      "execution_count": null,
      "outputs": [
        {
          "output_type": "stream",
          "text": [
            "Finished reading the train set of COVID19 Dataset (2430 samples found, each dim = 42)\n",
            "Finished reading the dev set of COVID19 Dataset (270 samples found, each dim = 42)\n",
            "Finished reading the test set of COVID19 Dataset (893 samples found, each dim = 42)\n"
          ],
          "name": "stdout"
        }
      ]
    },
    {
      "cell_type": "code",
      "metadata": {
        "id": "FHylSirLP9oh"
      },
      "source": [
        "model = NeuralNet(tr_set.dataset.dim).to(device)  # Construct model and move to device"
      ],
      "execution_count": null,
      "outputs": []
    },
    {
      "cell_type": "markdown",
      "metadata": {
        "id": "sX2B_zgSOPTJ"
      },
      "source": [
        "# **Start Training!**"
      ]
    },
    {
      "cell_type": "code",
      "metadata": {
        "colab": {
          "base_uri": "https://localhost:8080/"
        },
        "id": "GrEbUxazQAAZ",
        "outputId": "9c00cb50-8609-400b-82f7-af3d724682c6"
      },
      "source": [
        "model_loss, model_loss_record = train(tr_set, dv_set, model, config, device)"
      ],
      "execution_count": null,
      "outputs": [
        {
          "output_type": "stream",
          "text": [
            "Saving model (epoch =    1, loss = 246.8781)\n",
            "Saving model (epoch =    2, loss = 11.4420)\n",
            "Saving model (epoch =    5, loss = 4.1466)\n",
            "Saving model (epoch =    6, loss = 1.0891)\n",
            "Saving model (epoch =    7, loss = 0.9768)\n",
            "Saving model (epoch =    8, loss = 0.7686)\n",
            "Saving model (epoch =    9, loss = 0.6290)\n",
            "Saving model (epoch =   10, loss = 0.4250)\n",
            "Saving model (epoch =   11, loss = 0.3879)\n",
            "Saving model (epoch =   12, loss = 0.3745)\n",
            "Saving model (epoch =   13, loss = 0.3328)\n",
            "Saving model (epoch =   14, loss = 0.3166)\n",
            "Saving model (epoch =   15, loss = 0.2978)\n",
            "Saving model (epoch =   16, loss = 0.2777)\n",
            "Saving model (epoch =   17, loss = 0.2684)\n",
            "Saving model (epoch =   18, loss = 0.2497)\n",
            "Saving model (epoch =   19, loss = 0.2385)\n",
            "Saving model (epoch =   20, loss = 0.2266)\n",
            "Saving model (epoch =   21, loss = 0.2138)\n",
            "Saving model (epoch =   22, loss = 0.2060)\n",
            "Saving model (epoch =   23, loss = 0.1954)\n",
            "Saving model (epoch =   24, loss = 0.1872)\n",
            "Saving model (epoch =   25, loss = 0.1792)\n",
            "Saving model (epoch =   26, loss = 0.1718)\n",
            "Saving model (epoch =   27, loss = 0.1646)\n",
            "Saving model (epoch =   28, loss = 0.1591)\n",
            "Saving model (epoch =   29, loss = 0.1528)\n",
            "Saving model (epoch =   30, loss = 0.1461)\n",
            "Saving model (epoch =   31, loss = 0.1420)\n",
            "Saving model (epoch =   32, loss = 0.1364)\n",
            "Saving model (epoch =   33, loss = 0.1313)\n",
            "Saving model (epoch =   34, loss = 0.1291)\n",
            "Saving model (epoch =   35, loss = 0.1223)\n",
            "Saving model (epoch =   36, loss = 0.1186)\n",
            "Saving model (epoch =   37, loss = 0.1161)\n",
            "Saving model (epoch =   38, loss = 0.1102)\n",
            "Saving model (epoch =   39, loss = 0.1073)\n",
            "Saving model (epoch =   40, loss = 0.1046)\n",
            "Saving model (epoch =   41, loss = 0.1004)\n",
            "Saving model (epoch =   42, loss = 0.0965)\n",
            "Saving model (epoch =   43, loss = 0.0954)\n",
            "Saving model (epoch =   44, loss = 0.0920)\n",
            "Saving model (epoch =   45, loss = 0.0886)\n",
            "Saving model (epoch =   46, loss = 0.0872)\n",
            "Saving model (epoch =   47, loss = 0.0839)\n",
            "Saving model (epoch =   48, loss = 0.0811)\n",
            "Saving model (epoch =   49, loss = 0.0800)\n",
            "Saving model (epoch =   50, loss = 0.0770)\n",
            "Saving model (epoch =   51, loss = 0.0750)\n",
            "Saving model (epoch =   52, loss = 0.0729)\n",
            "Saving model (epoch =   53, loss = 0.0716)\n",
            "Saving model (epoch =   54, loss = 0.0691)\n",
            "Saving model (epoch =   55, loss = 0.0672)\n",
            "Saving model (epoch =   56, loss = 0.0658)\n",
            "Saving model (epoch =   57, loss = 0.0643)\n",
            "Saving model (epoch =   58, loss = 0.0616)\n",
            "Saving model (epoch =   60, loss = 0.0585)\n",
            "Saving model (epoch =   62, loss = 0.0556)\n",
            "Saving model (epoch =   63, loss = 0.0549)\n",
            "Saving model (epoch =   64, loss = 0.0538)\n",
            "Saving model (epoch =   65, loss = 0.0521)\n",
            "Saving model (epoch =   66, loss = 0.0520)\n",
            "Saving model (epoch =   67, loss = 0.0496)\n",
            "Saving model (epoch =   68, loss = 0.0487)\n",
            "Saving model (epoch =   69, loss = 0.0478)\n",
            "Saving model (epoch =   70, loss = 0.0467)\n",
            "Saving model (epoch =   71, loss = 0.0451)\n",
            "Saving model (epoch =   72, loss = 0.0442)\n",
            "Saving model (epoch =   73, loss = 0.0434)\n",
            "Saving model (epoch =   74, loss = 0.0418)\n",
            "Saving model (epoch =   75, loss = 0.0418)\n",
            "Saving model (epoch =   76, loss = 0.0404)\n",
            "Saving model (epoch =   77, loss = 0.0393)\n",
            "Saving model (epoch =   78, loss = 0.0388)\n",
            "Saving model (epoch =   79, loss = 0.0376)\n",
            "Saving model (epoch =   80, loss = 0.0373)\n",
            "Saving model (epoch =   81, loss = 0.0360)\n",
            "Saving model (epoch =   82, loss = 0.0357)\n",
            "Saving model (epoch =   83, loss = 0.0344)\n",
            "Saving model (epoch =   84, loss = 0.0343)\n",
            "Saving model (epoch =   85, loss = 0.0331)\n",
            "Saving model (epoch =   86, loss = 0.0325)\n",
            "Saving model (epoch =   87, loss = 0.0323)\n",
            "Saving model (epoch =   88, loss = 0.0307)\n",
            "Saving model (epoch =   89, loss = 0.0307)\n",
            "Saving model (epoch =   90, loss = 0.0301)\n",
            "Saving model (epoch =   91, loss = 0.0292)\n",
            "Saving model (epoch =   92, loss = 0.0284)\n",
            "Saving model (epoch =   94, loss = 0.0272)\n",
            "Saving model (epoch =   95, loss = 0.0270)\n",
            "Saving model (epoch =   96, loss = 0.0266)\n",
            "Saving model (epoch =   97, loss = 0.0259)\n",
            "Saving model (epoch =   98, loss = 0.0250)\n",
            "Saving model (epoch =  100, loss = 0.0239)\n",
            "Saving model (epoch =  102, loss = 0.0232)\n",
            "Saving model (epoch =  103, loss = 0.0230)\n",
            "Saving model (epoch =  104, loss = 0.0225)\n",
            "Saving model (epoch =  105, loss = 0.0222)\n",
            "Saving model (epoch =  106, loss = 0.0216)\n",
            "Saving model (epoch =  107, loss = 0.0214)\n",
            "Saving model (epoch =  108, loss = 0.0209)\n",
            "Saving model (epoch =  109, loss = 0.0204)\n",
            "Saving model (epoch =  110, loss = 0.0201)\n",
            "Saving model (epoch =  111, loss = 0.0197)\n",
            "Saving model (epoch =  112, loss = 0.0194)\n",
            "Saving model (epoch =  113, loss = 0.0191)\n",
            "Saving model (epoch =  114, loss = 0.0185)\n",
            "Saving model (epoch =  115, loss = 0.0185)\n",
            "Saving model (epoch =  116, loss = 0.0179)\n",
            "Saving model (epoch =  117, loss = 0.0178)\n",
            "Saving model (epoch =  118, loss = 0.0174)\n",
            "Saving model (epoch =  119, loss = 0.0172)\n",
            "Saving model (epoch =  120, loss = 0.0168)\n",
            "Saving model (epoch =  121, loss = 0.0165)\n",
            "Saving model (epoch =  122, loss = 0.0163)\n",
            "Saving model (epoch =  123, loss = 0.0161)\n",
            "Saving model (epoch =  124, loss = 0.0157)\n",
            "Saving model (epoch =  125, loss = 0.0156)\n",
            "Saving model (epoch =  126, loss = 0.0151)\n",
            "Saving model (epoch =  128, loss = 0.0149)\n",
            "Saving model (epoch =  129, loss = 0.0145)\n",
            "Saving model (epoch =  130, loss = 0.0144)\n",
            "Saving model (epoch =  131, loss = 0.0142)\n",
            "Saving model (epoch =  132, loss = 0.0139)\n",
            "Saving model (epoch =  133, loss = 0.0138)\n",
            "Saving model (epoch =  134, loss = 0.0136)\n",
            "Saving model (epoch =  135, loss = 0.0133)\n",
            "Saving model (epoch =  136, loss = 0.0132)\n",
            "Saving model (epoch =  137, loss = 0.0130)\n",
            "Saving model (epoch =  138, loss = 0.0130)\n",
            "Saving model (epoch =  139, loss = 0.0126)\n",
            "Saving model (epoch =  140, loss = 0.0125)\n",
            "Saving model (epoch =  141, loss = 0.0123)\n",
            "Saving model (epoch =  142, loss = 0.0122)\n",
            "Saving model (epoch =  143, loss = 0.0121)\n",
            "Saving model (epoch =  144, loss = 0.0118)\n",
            "Saving model (epoch =  145, loss = 0.0118)\n",
            "Saving model (epoch =  146, loss = 0.0117)\n",
            "Saving model (epoch =  147, loss = 0.0114)\n",
            "Saving model (epoch =  148, loss = 0.0114)\n",
            "Saving model (epoch =  149, loss = 0.0111)\n",
            "Saving model (epoch =  151, loss = 0.0108)\n",
            "Saving model (epoch =  153, loss = 0.0107)\n",
            "Saving model (epoch =  154, loss = 0.0105)\n",
            "Saving model (epoch =  155, loss = 0.0105)\n",
            "Saving model (epoch =  156, loss = 0.0103)\n",
            "Saving model (epoch =  158, loss = 0.0101)\n",
            "Saving model (epoch =  160, loss = 0.0100)\n",
            "Saving model (epoch =  161, loss = 0.0098)\n",
            "Saving model (epoch =  163, loss = 0.0096)\n",
            "Saving model (epoch =  164, loss = 0.0095)\n",
            "Saving model (epoch =  166, loss = 0.0093)\n",
            "Saving model (epoch =  168, loss = 0.0092)\n",
            "Saving model (epoch =  170, loss = 0.0091)\n",
            "Saving model (epoch =  172, loss = 0.0089)\n",
            "Saving model (epoch =  174, loss = 0.0088)\n",
            "Saving model (epoch =  175, loss = 0.0087)\n",
            "Saving model (epoch =  177, loss = 0.0086)\n",
            "Saving model (epoch =  178, loss = 0.0085)\n",
            "Saving model (epoch =  180, loss = 0.0083)\n",
            "Saving model (epoch =  182, loss = 0.0083)\n",
            "Saving model (epoch =  183, loss = 0.0082)\n",
            "Saving model (epoch =  184, loss = 0.0082)\n",
            "Saving model (epoch =  185, loss = 0.0081)\n",
            "Saving model (epoch =  186, loss = 0.0080)\n",
            "Saving model (epoch =  189, loss = 0.0078)\n",
            "Saving model (epoch =  192, loss = 0.0077)\n",
            "Saving model (epoch =  194, loss = 0.0077)\n",
            "Saving model (epoch =  196, loss = 0.0076)\n",
            "Saving model (epoch =  197, loss = 0.0076)\n",
            "Saving model (epoch =  199, loss = 0.0074)\n",
            "Saving model (epoch =  201, loss = 0.0073)\n",
            "Saving model (epoch =  204, loss = 0.0072)\n",
            "Saving model (epoch =  207, loss = 0.0072)\n",
            "Saving model (epoch =  209, loss = 0.0071)\n",
            "Saving model (epoch =  210, loss = 0.0071)\n",
            "Saving model (epoch =  211, loss = 0.0071)\n",
            "Saving model (epoch =  212, loss = 0.0070)\n",
            "Saving model (epoch =  213, loss = 0.0070)\n",
            "Saving model (epoch =  215, loss = 0.0069)\n",
            "Saving model (epoch =  218, loss = 0.0068)\n",
            "Saving model (epoch =  220, loss = 0.0068)\n",
            "Saving model (epoch =  221, loss = 0.0068)\n",
            "Saving model (epoch =  222, loss = 0.0067)\n",
            "Saving model (epoch =  224, loss = 0.0067)\n",
            "Saving model (epoch =  225, loss = 0.0066)\n",
            "Saving model (epoch =  227, loss = 0.0065)\n",
            "Saving model (epoch =  231, loss = 0.0064)\n",
            "Saving model (epoch =  235, loss = 0.0063)\n",
            "Saving model (epoch =  238, loss = 0.0063)\n",
            "Saving model (epoch =  241, loss = 0.0062)\n",
            "Saving model (epoch =  246, loss = 0.0062)\n",
            "Saving model (epoch =  247, loss = 0.0061)\n",
            "Saving model (epoch =  249, loss = 0.0061)\n",
            "Saving model (epoch =  250, loss = 0.0061)\n",
            "Saving model (epoch =  252, loss = 0.0061)\n",
            "Saving model (epoch =  253, loss = 0.0060)\n",
            "Saving model (epoch =  254, loss = 0.0060)\n",
            "Saving model (epoch =  256, loss = 0.0060)\n",
            "Saving model (epoch =  257, loss = 0.0060)\n",
            "Saving model (epoch =  259, loss = 0.0059)\n",
            "Saving model (epoch =  264, loss = 0.0058)\n",
            "Saving model (epoch =  269, loss = 0.0058)\n",
            "Saving model (epoch =  272, loss = 0.0058)\n",
            "Saving model (epoch =  273, loss = 0.0057)\n",
            "Saving model (epoch =  279, loss = 0.0057)\n",
            "Saving model (epoch =  281, loss = 0.0056)\n",
            "Saving model (epoch =  286, loss = 0.0056)\n",
            "Saving model (epoch =  289, loss = 0.0056)\n",
            "Saving model (epoch =  291, loss = 0.0055)\n",
            "Saving model (epoch =  295, loss = 0.0054)\n",
            "Saving model (epoch =  300, loss = 0.0054)\n",
            "Saving model (epoch =  306, loss = 0.0054)\n",
            "Saving model (epoch =  308, loss = 0.0053)\n",
            "Saving model (epoch =  311, loss = 0.0053)\n",
            "Saving model (epoch =  324, loss = 0.0052)\n",
            "Saving model (epoch =  326, loss = 0.0052)\n",
            "Saving model (epoch =  329, loss = 0.0051)\n",
            "Saving model (epoch =  340, loss = 0.0051)\n",
            "Saving model (epoch =  352, loss = 0.0050)\n",
            "Saving model (epoch =  354, loss = 0.0050)\n",
            "Saving model (epoch =  356, loss = 0.0050)\n",
            "Saving model (epoch =  371, loss = 0.0050)\n",
            "Saving model (epoch =  374, loss = 0.0049)\n",
            "Saving model (epoch =  377, loss = 0.0049)\n",
            "Saving model (epoch =  383, loss = 0.0049)\n",
            "Saving model (epoch =  384, loss = 0.0049)\n",
            "Saving model (epoch =  386, loss = 0.0049)\n",
            "Saving model (epoch =  390, loss = 0.0049)\n",
            "Saving model (epoch =  394, loss = 0.0048)\n",
            "Saving model (epoch =  396, loss = 0.0048)\n",
            "Saving model (epoch =  401, loss = 0.0048)\n",
            "Saving model (epoch =  413, loss = 0.0047)\n",
            "Saving model (epoch =  420, loss = 0.0047)\n",
            "Saving model (epoch =  422, loss = 0.0047)\n",
            "Saving model (epoch =  426, loss = 0.0047)\n",
            "Saving model (epoch =  428, loss = 0.0046)\n",
            "Saving model (epoch =  440, loss = 0.0046)\n",
            "Saving model (epoch =  452, loss = 0.0046)\n",
            "Saving model (epoch =  456, loss = 0.0046)\n",
            "Saving model (epoch =  462, loss = 0.0046)\n",
            "Saving model (epoch =  465, loss = 0.0046)\n",
            "Saving model (epoch =  468, loss = 0.0045)\n",
            "Saving model (epoch =  476, loss = 0.0045)\n",
            "Saving model (epoch =  481, loss = 0.0045)\n",
            "Saving model (epoch =  488, loss = 0.0045)\n",
            "Saving model (epoch =  492, loss = 0.0045)\n",
            "Saving model (epoch =  499, loss = 0.0044)\n",
            "Saving model (epoch =  508, loss = 0.0044)\n",
            "Saving model (epoch =  510, loss = 0.0044)\n",
            "Saving model (epoch =  513, loss = 0.0044)\n",
            "Saving model (epoch =  522, loss = 0.0044)\n",
            "Saving model (epoch =  525, loss = 0.0044)\n",
            "Saving model (epoch =  534, loss = 0.0043)\n",
            "Saving model (epoch =  548, loss = 0.0043)\n",
            "Saving model (epoch =  560, loss = 0.0043)\n",
            "Saving model (epoch =  565, loss = 0.0042)\n",
            "Saving model (epoch =  585, loss = 0.0042)\n",
            "Saving model (epoch =  593, loss = 0.0042)\n",
            "Saving model (epoch =  607, loss = 0.0042)\n",
            "Saving model (epoch =  609, loss = 0.0041)\n",
            "Saving model (epoch =  634, loss = 0.0041)\n",
            "Saving model (epoch =  636, loss = 0.0041)\n",
            "Saving model (epoch =  642, loss = 0.0041)\n",
            "Saving model (epoch =  665, loss = 0.0041)\n",
            "Saving model (epoch =  667, loss = 0.0041)\n",
            "Saving model (epoch =  678, loss = 0.0040)\n",
            "Saving model (epoch =  707, loss = 0.0040)\n",
            "Saving model (epoch =  709, loss = 0.0039)\n",
            "Saving model (epoch =  751, loss = 0.0039)\n",
            "Saving model (epoch =  771, loss = 0.0039)\n",
            "Saving model (epoch =  778, loss = 0.0039)\n",
            "Saving model (epoch =  783, loss = 0.0039)\n",
            "Saving model (epoch =  791, loss = 0.0039)\n",
            "Saving model (epoch =  798, loss = 0.0039)\n",
            "Saving model (epoch =  824, loss = 0.0038)\n",
            "Saving model (epoch =  841, loss = 0.0038)\n",
            "Saving model (epoch =  882, loss = 0.0038)\n",
            "Saving model (epoch =  901, loss = 0.0038)\n",
            "Saving model (epoch =  909, loss = 0.0038)\n",
            "Saving model (epoch =  917, loss = 0.0038)\n",
            "Saving model (epoch =  950, loss = 0.0037)\n",
            "Saving model (epoch =  970, loss = 0.0037)\n",
            "Saving model (epoch =  982, loss = 0.0037)\n",
            "Saving model (epoch =  996, loss = 0.0037)\n",
            "Saving model (epoch = 1013, loss = 0.0037)\n",
            "Saving model (epoch = 1034, loss = 0.0036)\n",
            "Saving model (epoch = 1069, loss = 0.0036)\n",
            "Saving model (epoch = 1084, loss = 0.0036)\n",
            "Saving model (epoch = 1096, loss = 0.0036)\n",
            "Saving model (epoch = 1108, loss = 0.0036)\n",
            "Saving model (epoch = 1139, loss = 0.0036)\n",
            "Saving model (epoch = 1198, loss = 0.0036)\n",
            "Saving model (epoch = 1214, loss = 0.0036)\n",
            "Saving model (epoch = 1256, loss = 0.0035)\n",
            "Saving model (epoch = 1318, loss = 0.0035)\n",
            "Saving model (epoch = 1337, loss = 0.0035)\n",
            "Saving model (epoch = 1359, loss = 0.0035)\n",
            "Saving model (epoch = 1365, loss = 0.0035)\n",
            "Saving model (epoch = 1406, loss = 0.0035)\n",
            "Saving model (epoch = 1469, loss = 0.0035)\n",
            "Saving model (epoch = 1523, loss = 0.0034)\n",
            "Finished training after 1724 epochs\n"
          ],
          "name": "stdout"
        }
      ]
    },
    {
      "cell_type": "code",
      "metadata": {
        "colab": {
          "base_uri": "https://localhost:8080/",
          "height": 295
        },
        "id": "hsNO9nnXQBvP",
        "outputId": "75d10d04-b394-46e9-df20-65e6791dbbfe"
      },
      "source": [
        "plot_learning_curve(model_loss_record, title='deep model')"
      ],
      "execution_count": null,
      "outputs": [
        {
          "output_type": "display_data",
          "data": {
            "image/png": "[encoded data removed]",
            "text/plain": [
              "<Figure size 432x288 with 1 Axes>"
            ]
          },
          "metadata": {
            "tags": [],
            "needs_background": "light"
          }
        }
      ]
    },
    {
      "cell_type": "code",
      "metadata": {
        "colab": {
          "base_uri": "https://localhost:8080/",
          "height": 350
        },
        "id": "3iZTVn5WQFpX",
        "outputId": "b21e096c-b30d-4966-fec6-cfa6e8a060d4"
      },
      "source": [
        "del model\n",
        "model = NeuralNet(tr_set.dataset.dim).to(device)\n",
        "ckpt = torch.load(config['save_path'], map_location='cpu')  # Load your best model\n",
        "model.load_state_dict(ckpt)\n",
        "plot_pred(dv_set, model, device)  # Show prediction on the validation set"
      ],
      "execution_count": null,
      "outputs": [
        {
          "output_type": "display_data",
          "data": {
            "image/png": "[encoded data removed]",
            "text/plain": [
              "<Figure size 360x360 with 1 Axes>"
            ]
          },
          "metadata": {
            "tags": [],
            "needs_background": "light"
          }
        }
      ]
    },
    {
      "cell_type": "markdown",
      "metadata": {
        "id": "aQikz3IPiyPf"
      },
      "source": [
        "# **Testing**\n",
        "The predictions of your model on testing set will be stored at `pred.csv`."
      ]
    },
    {
      "cell_type": "code",
      "metadata": {
        "colab": {
          "base_uri": "https://localhost:8080/"
        },
        "id": "O8cTuQjQQOon",
        "outputId": "b5c31cc0-9479-495c-edb9-eb3dabc15120"
      },
      "source": [
        "def save_pred(preds, file):\n",
        "    ''' Save predictions to specified file '''\n",
        "    print('Saving results to {}'.format(file))\n",
        "    with open(file, 'w') as fp:\n",
        "        writer = csv.writer(fp)\n",
        "        writer.writerow(['id', 'tested_positive'])\n",
        "        for i, p in enumerate(preds):\n",
        "            writer.writerow([i, p])\n",
        "\n",
        "preds = test(tt_set, model, device)  # predict COVID-19 cases with your model\n",
        "save_pred(preds, 'pred.csv')         # save prediction file to pred.csv"
      ],
      "execution_count": null,
      "outputs": [
        {
          "output_type": "stream",
          "text": [
            "Saving results to pred.csv\n"
          ],
          "name": "stdout"
        }
      ]
    },
    {
      "cell_type": "markdown",
      "metadata": {
        "id": "nfrVxqJanGpE"
      },
      "source": [
        "# **Hints**\n",
        "\n",
        "## **Simple Baseline**\n",
        "* Run sample code\n",
        "\n",
        "## **Medium Baseline**\n",
        "* Feature selection: 40 states + 2 `tested_positive` (`TODO` in dataset)\n",
        "\n",
        "## **Strong Baseline**\n",
        "* Feature selection (what other features are useful?)\n",
        "* DNN architecture (layers? dimension? activation function?)\n",
        "* Training (mini-batch? optimizer? learning rate?)\n",
        "* L2 regularization\n",
        "* There are some mistakes in the sample code, can you find them?"
      ]
    },
    {
      "cell_type": "markdown",
      "metadata": {
        "id": "9tmCwXgpot3t"
      },
      "source": [
        "# **Reference**\n",
        "This code is completely written by Heng-Jui Chang @ NTUEE.  \n",
        "Copying or reusing this code is required to specify the original author. \n",
        "\n",
        "E.g.  \n",
        "Source: Heng-Jui Chang @ NTUEE (https://github.com/ga642381/ML2021-Spring/blob/main/HW01/HW01.ipynb)\n"
      ]
    }
  ]
}